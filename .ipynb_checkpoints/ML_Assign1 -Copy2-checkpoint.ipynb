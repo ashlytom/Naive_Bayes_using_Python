{
 "cells": [
  {
   "cell_type": "markdown",
   "metadata": {},
   "source": [
    "Load Fisher Iris Data and understand the dataset. Divide 70% of the sample at random and\n",
    "keep it as training set. Plot the values (histogram) of each feature for all training sample and\n",
    "pick two features (out of 4) that you feel can be modelled using Gaussian distribution."
   ]
  },
  {
   "cell_type": "code",
   "execution_count": 85,
   "metadata": {},
   "outputs": [
    {
     "data": {
      "text/html": [
       "<div>\n",
       "<style scoped>\n",
       "    .dataframe tbody tr th:only-of-type {\n",
       "        vertical-align: middle;\n",
       "    }\n",
       "\n",
       "    .dataframe tbody tr th {\n",
       "        vertical-align: top;\n",
       "    }\n",
       "\n",
       "    .dataframe thead th {\n",
       "        text-align: right;\n",
       "    }\n",
       "</style>\n",
       "<table border=\"1\" class=\"dataframe\">\n",
       "  <thead>\n",
       "    <tr style=\"text-align: right;\">\n",
       "      <th></th>\n",
       "      <th>SepalLength</th>\n",
       "      <th>SepalWidth</th>\n",
       "      <th>PetalLength</th>\n",
       "      <th>PetalWidth</th>\n",
       "      <th>Species</th>\n",
       "    </tr>\n",
       "  </thead>\n",
       "  <tbody>\n",
       "    <tr>\n",
       "      <th>1</th>\n",
       "      <td>5.1</td>\n",
       "      <td>3.5</td>\n",
       "      <td>1.4</td>\n",
       "      <td>0.2</td>\n",
       "      <td>1</td>\n",
       "    </tr>\n",
       "    <tr>\n",
       "      <th>2</th>\n",
       "      <td>4.9</td>\n",
       "      <td>3.0</td>\n",
       "      <td>1.4</td>\n",
       "      <td>0.2</td>\n",
       "      <td>1</td>\n",
       "    </tr>\n",
       "    <tr>\n",
       "      <th>3</th>\n",
       "      <td>4.7</td>\n",
       "      <td>3.2</td>\n",
       "      <td>1.3</td>\n",
       "      <td>0.2</td>\n",
       "      <td>1</td>\n",
       "    </tr>\n",
       "    <tr>\n",
       "      <th>4</th>\n",
       "      <td>4.6</td>\n",
       "      <td>3.1</td>\n",
       "      <td>1.5</td>\n",
       "      <td>0.2</td>\n",
       "      <td>1</td>\n",
       "    </tr>\n",
       "    <tr>\n",
       "      <th>5</th>\n",
       "      <td>5.0</td>\n",
       "      <td>3.6</td>\n",
       "      <td>1.4</td>\n",
       "      <td>0.2</td>\n",
       "      <td>1</td>\n",
       "    </tr>\n",
       "    <tr>\n",
       "      <th>...</th>\n",
       "      <td>...</td>\n",
       "      <td>...</td>\n",
       "      <td>...</td>\n",
       "      <td>...</td>\n",
       "      <td>...</td>\n",
       "    </tr>\n",
       "    <tr>\n",
       "      <th>146</th>\n",
       "      <td>6.7</td>\n",
       "      <td>3.0</td>\n",
       "      <td>5.2</td>\n",
       "      <td>2.3</td>\n",
       "      <td>3</td>\n",
       "    </tr>\n",
       "    <tr>\n",
       "      <th>147</th>\n",
       "      <td>6.3</td>\n",
       "      <td>2.5</td>\n",
       "      <td>5.0</td>\n",
       "      <td>1.9</td>\n",
       "      <td>3</td>\n",
       "    </tr>\n",
       "    <tr>\n",
       "      <th>148</th>\n",
       "      <td>6.5</td>\n",
       "      <td>3.0</td>\n",
       "      <td>5.2</td>\n",
       "      <td>2.0</td>\n",
       "      <td>3</td>\n",
       "    </tr>\n",
       "    <tr>\n",
       "      <th>149</th>\n",
       "      <td>6.2</td>\n",
       "      <td>3.4</td>\n",
       "      <td>5.4</td>\n",
       "      <td>2.3</td>\n",
       "      <td>3</td>\n",
       "    </tr>\n",
       "    <tr>\n",
       "      <th>150</th>\n",
       "      <td>5.9</td>\n",
       "      <td>3.0</td>\n",
       "      <td>5.1</td>\n",
       "      <td>1.8</td>\n",
       "      <td>3</td>\n",
       "    </tr>\n",
       "  </tbody>\n",
       "</table>\n",
       "<p>150 rows × 5 columns</p>\n",
       "</div>"
      ],
      "text/plain": [
       "     SepalLength  SepalWidth  PetalLength  PetalWidth  Species\n",
       "1            5.1         3.5          1.4         0.2        1\n",
       "2            4.9         3.0          1.4         0.2        1\n",
       "3            4.7         3.2          1.3         0.2        1\n",
       "4            4.6         3.1          1.5         0.2        1\n",
       "5            5.0         3.6          1.4         0.2        1\n",
       "..           ...         ...          ...         ...      ...\n",
       "146          6.7         3.0          5.2         2.3        3\n",
       "147          6.3         2.5          5.0         1.9        3\n",
       "148          6.5         3.0          5.2         2.0        3\n",
       "149          6.2         3.4          5.4         2.3        3\n",
       "150          5.9         3.0          5.1         1.8        3\n",
       "\n",
       "[150 rows x 5 columns]"
      ]
     },
     "execution_count": 85,
     "metadata": {},
     "output_type": "execute_result"
    }
   ],
   "source": [
    "import matplotlib.pyplot as plt\n",
    "import pandas as pd\n",
    "import numpy as np\n",
    "from math import pi,sqrt\n",
    "from sklearn.model_selection import train_test_split\n",
    "from sklearn.metrics import confusion_matrix, accuracy_score\n",
    "\n",
    "#newdataset\n",
    "col_name=['SepalLength','SepalWidth','PetalLength','PetalWidth','Species']\n",
    "iris=pd.read_csv('C:/Users/ashme/Mtech AI/Machine Learning/Lab Assignment/23-10-20 Lab Assignment/Iris.csv',header=0,names=col_name)\n",
    "iris\n",
    "\n",
    "#Preprocessing the last row to make it different classes\n",
    "def name_class(ar):\n",
    "    if ar == \"setosa\":\n",
    "        ar=1\n",
    "    elif ar == \"versicolor\":\n",
    "        ar=2\n",
    "    else: ar = 3\n",
    "    return ar\n",
    "\n",
    "iris['Species']=iris.Species.apply(name_class)\n",
    "iris\n",
    "#Preprocessing Done\n",
    "    "
   ]
  },
  {
   "cell_type": "code",
   "execution_count": 86,
   "metadata": {},
   "outputs": [
    {
     "data": {
      "text/plain": [
       "Text(0.5, 1.0, 'Petal Length 3rd Class')"
      ]
     },
     "execution_count": 86,
     "metadata": {},
     "output_type": "execute_result"
    },
    {
     "data": {
      "image/png": "[encoded data removed]",
      "text/plain": [
       "<Figure size 720x720 with 9 Axes>"
      ]
     },
     "metadata": {
      "needs_background": "light"
     },
     "output_type": "display_data"
    }
   ],
   "source": [
    "fig,a=plt.subplots(3,3,figsize=(10,10))\n",
    "a[0,0].hist(iris.iloc[:50,0])\n",
    "a[0,0].set_title(\"Sepal Length 1st Class\")\n",
    "a[0,1].hist(iris.iloc[:50,1])\n",
    "a[0,1].set_title(\"Sepal Width 1st Class\")\n",
    "a[0,2].hist(iris.iloc[:50,3])\n",
    "a[0,2].set_title(\"Petal Length 1st Class\")\n",
    "a[1,0].hist(iris.iloc[50:100,0])\n",
    "a[1,0].set_title(\"Sepal Length 2nd Class\")\n",
    "a[1,1].hist(iris.iloc[50:100,1])\n",
    "a[1,1].set_title(\"Sepal Width  2nd Class\")\n",
    "a[1,2].hist(iris.iloc[50:100,3])\n",
    "a[1,2].set_title(\"Petal Length 2nd Class\")\n",
    "a[2,0].hist(iris.iloc[100:150,0])\n",
    "a[2,0].set_title(\"Sepal Length 3rd Class\")\n",
    "a[2,1].hist(iris.iloc[100:150,1])\n",
    "a[2,1].set_title(\"Sepal Width 3rd Class\")\n",
    "a[2,2].hist(iris.iloc[100:150,3])\n",
    "a[2,2].set_title(\"Petal Length 3rd Class\")"
   ]
  },
  {
   "cell_type": "markdown",
   "metadata": {},
   "source": [
    "From this Histogram we can see that the Sepal Length and Sepal Width of all the three classes have a normal distribution. So we can pick these two features for our Model Building."
   ]
  },
  {
   "cell_type": "markdown",
   "metadata": {},
   "source": [
    "### Question 1:\n",
    "Now assume that the samples (with the above selected features) follows normal\n",
    "distribution. Design a Bayes classifier for the 30% test sample and report the\n",
    "accuracy."
   ]
  },
  {
   "cell_type": "code",
   "execution_count": 89,
   "metadata": {},
   "outputs": [
    {
     "data": {
      "text/html": [
       "<div>\n",
       "<style scoped>\n",
       "    .dataframe tbody tr th:only-of-type {\n",
       "        vertical-align: middle;\n",
       "    }\n",
       "\n",
       "    .dataframe tbody tr th {\n",
       "        vertical-align: top;\n",
       "    }\n",
       "\n",
       "    .dataframe thead th {\n",
       "        text-align: right;\n",
       "    }\n",
       "</style>\n",
       "<table border=\"1\" class=\"dataframe\">\n",
       "  <thead>\n",
       "    <tr style=\"text-align: right;\">\n",
       "      <th></th>\n",
       "      <th>SepalLength</th>\n",
       "      <th>SepalWidth</th>\n",
       "      <th>Species</th>\n",
       "    </tr>\n",
       "  </thead>\n",
       "  <tbody>\n",
       "    <tr>\n",
       "      <th>1</th>\n",
       "      <td>5.1</td>\n",
       "      <td>3.5</td>\n",
       "      <td>1</td>\n",
       "    </tr>\n",
       "    <tr>\n",
       "      <th>2</th>\n",
       "      <td>4.9</td>\n",
       "      <td>3.0</td>\n",
       "      <td>1</td>\n",
       "    </tr>\n",
       "    <tr>\n",
       "      <th>3</th>\n",
       "      <td>4.7</td>\n",
       "      <td>3.2</td>\n",
       "      <td>1</td>\n",
       "    </tr>\n",
       "    <tr>\n",
       "      <th>4</th>\n",
       "      <td>4.6</td>\n",
       "      <td>3.1</td>\n",
       "      <td>1</td>\n",
       "    </tr>\n",
       "    <tr>\n",
       "      <th>5</th>\n",
       "      <td>5.0</td>\n",
       "      <td>3.6</td>\n",
       "      <td>1</td>\n",
       "    </tr>\n",
       "    <tr>\n",
       "      <th>...</th>\n",
       "      <td>...</td>\n",
       "      <td>...</td>\n",
       "      <td>...</td>\n",
       "    </tr>\n",
       "    <tr>\n",
       "      <th>146</th>\n",
       "      <td>6.7</td>\n",
       "      <td>3.0</td>\n",
       "      <td>3</td>\n",
       "    </tr>\n",
       "    <tr>\n",
       "      <th>147</th>\n",
       "      <td>6.3</td>\n",
       "      <td>2.5</td>\n",
       "      <td>3</td>\n",
       "    </tr>\n",
       "    <tr>\n",
       "      <th>148</th>\n",
       "      <td>6.5</td>\n",
       "      <td>3.0</td>\n",
       "      <td>3</td>\n",
       "    </tr>\n",
       "    <tr>\n",
       "      <th>149</th>\n",
       "      <td>6.2</td>\n",
       "      <td>3.4</td>\n",
       "      <td>3</td>\n",
       "    </tr>\n",
       "    <tr>\n",
       "      <th>150</th>\n",
       "      <td>5.9</td>\n",
       "      <td>3.0</td>\n",
       "      <td>3</td>\n",
       "    </tr>\n",
       "  </tbody>\n",
       "</table>\n",
       "<p>150 rows × 3 columns</p>\n",
       "</div>"
      ],
      "text/plain": [
       "     SepalLength  SepalWidth  Species\n",
       "1            5.1         3.5        1\n",
       "2            4.9         3.0        1\n",
       "3            4.7         3.2        1\n",
       "4            4.6         3.1        1\n",
       "5            5.0         3.6        1\n",
       "..           ...         ...      ...\n",
       "146          6.7         3.0        3\n",
       "147          6.3         2.5        3\n",
       "148          6.5         3.0        3\n",
       "149          6.2         3.4        3\n",
       "150          5.9         3.0        3\n",
       "\n",
       "[150 rows x 3 columns]"
      ]
     },
     "execution_count": 89,
     "metadata": {},
     "output_type": "execute_result"
    }
   ],
   "source": [
    "new_data=iris.drop(columns=['PetalLength','PetalWidth'])\n",
    "new_data"
   ]
  },
  {
   "cell_type": "code",
   "execution_count": 90,
   "metadata": {},
   "outputs": [],
   "source": [
    "class3=new_data.iloc[100:150,:]\n",
    "class3=class3.drop(columns=\"Species\")"
   ]
  },
  {
   "cell_type": "code",
   "execution_count": 91,
   "metadata": {},
   "outputs": [],
   "source": [
    "#Training and test for Class 1\n",
    "train_class1=new_data.iloc[:50,:]\n",
    "train_class2=new_data.iloc[50:100,:]\n",
    "train_class3=new_data.iloc[100:150,:]\n",
    "#Targets\n",
    "#target1=new_data.iloc[:50,2]\n",
    "#target2=new_data.iloc[50:100,2]\n",
    "#target3=new_data.iloc[100:150,2]\n",
    "\n",
    "\n",
    "#Splitting into train and test\n",
    "X1_train,X1_test=train_test_split(train_class1,test_size=0.3)\n",
    "X2_train,X2_test=train_test_split(train_class2,test_size=0.3)\n",
    "X3_train,X3_test=train_test_split(train_class3,test_size=0.3)\n",
    "\n",
    "#Create Training sets\n",
    "X1_train=X1_train.drop(columns='Species')\n",
    "X2_train=X2_train.drop(columns='Species')\n",
    "X3_train=X3_train.drop(columns='Species')"
   ]
  },
  {
   "cell_type": "code",
   "execution_count": 92,
   "metadata": {},
   "outputs": [],
   "source": [
    "#Create Test set\n",
    "X_test=pd.concat([X1_test,X2_test,X3_test]).sample(frac=1)\n",
    "Y_test=X_test[\"Species\"]\n",
    "X_test=X_test.drop(columns=\"Species\")"
   ]
  },
  {
   "cell_type": "code",
   "execution_count": 93,
   "metadata": {},
   "outputs": [],
   "source": [
    "#Function for finding mu and covariance\n",
    "def training_func(X1):\n",
    "    mu =X1.mean()\n",
    "    cov= X1.cov()\n",
    "    cov_inv=np.linalg.inv(cov)\n",
    "    cov_det=np.linalg.det(cov)\n",
    "    \n",
    "    return mu,cov_inv,cov_det"
   ]
  },
  {
   "cell_type": "code",
   "execution_count": 94,
   "metadata": {},
   "outputs": [],
   "source": [
    "#test_class1.iloc[0,:].shape"
   ]
  },
  {
   "cell_type": "code",
   "execution_count": 115,
   "metadata": {},
   "outputs": [],
   "source": [
    "#Finding the likelihood\n",
    "\n",
    "def likelihood(test_case,train_c):\n",
    "    mu1,cov_inv1,cov_det1= training_func(train_c)\n",
    "   #START HERE: (-1/2)\n",
    "    \n",
    "    P_mine=f1*((f2).dot(f3))\n",
    "    #using corrected equation\n",
    "    P_like=np.exp(-.5*(np.transpose(test_case - mu1).dot(cov_inv1).dot(test_case-mu1)))/(2*3.14*((cov_det1)**(1/2)))\n",
    "    \n",
    "    \n",
    "    \n",
    "    return P_like==P_mine\n",
    "    \n",
    "\n",
    "#Give each from combined X_test to all the three different likehoods and find thier posterior prob for all\n",
    "# 3 classes. Highest wins."
   ]
  },
  {
   "cell_type": "code",
   "execution_count": null,
   "metadata": {},
   "outputs": [],
   "source": []
  },
  {
   "cell_type": "code",
   "execution_count": 116,
   "metadata": {},
   "outputs": [
    {
     "data": {
      "text/plain": [
       "False"
      ]
     },
     "execution_count": 116,
     "metadata": {},
     "output_type": "execute_result"
    }
   ],
   "source": [
    "im=likelihood(class3.iloc[5,:],X1_train)\n",
    "im"
   ]
  },
  {
   "cell_type": "code",
   "execution_count": 108,
   "metadata": {},
   "outputs": [],
   "source": [
    "#prior=len(X1_train)/(len(X1_train)+len(X2_train)+len(X3_train))\n"
   ]
  },
  {
   "cell_type": "code",
   "execution_count": 109,
   "metadata": {},
   "outputs": [],
   "source": [
    "#Prior Probablity\n",
    "prior_prob1=len(X1_train)/(len(X1_train)+len(X2_train)+len(X3_train))\n",
    "prior_prob2=len(X2_train)/(len(X1_train)+len(X2_train)+len(X3_train))\n",
    "prior_prob3=len(X2_train)/(len(X1_train)+len(X2_train)+len(X3_train))\n",
    "\n",
    "#Defining posterior probability\n",
    "\n",
    "def posterior(test_case_p,train_c1,train_c2,train_c3):\n",
    "    \n",
    "    like1=likelihood(test_case_p,train_c1)\n",
    "    like2=likelihood(test_case_p,train_c2)\n",
    "    like3=likelihood(test_case_p,train_c3)\n",
    "    #print(like1,like2,like3)\n",
    "   \n",
    "    \n",
    "    post1=prior_prob1*like1\n",
    "    post2=prior_prob2*like2\n",
    "    post3=prior_prob3*like3\n",
    "    \n",
    "    \n",
    "    \n",
    "    #print(post1,post2,post3)\n",
    "    if post1>post2 and post1>post3:\n",
    "        out = 1\n",
    "    elif post2>post1 and post2>post3:\n",
    "        out = 2\n",
    "    elif post3>post1 and post3>post2:\n",
    "        out = 3\n",
    "        \n",
    "    return out\n"
   ]
  },
  {
   "cell_type": "code",
   "execution_count": 111,
   "metadata": {},
   "outputs": [
    {
     "ename": "ValueError",
     "evalue": "Dot product shape mismatch, (2, 50) vs (2, 2)",
     "output_type": "error",
     "traceback": [
      "\u001b[1;31m---------------------------------------------------------------------------\u001b[0m",
      "\u001b[1;31mValueError\u001b[0m                                Traceback (most recent call last)",
      "\u001b[1;32m<ipython-input-111-92c3f9c8e462>\u001b[0m in \u001b[0;36m<module>\u001b[1;34m\u001b[0m\n\u001b[1;32m----> 1\u001b[1;33m \u001b[0mP1\u001b[0m\u001b[1;33m=\u001b[0m\u001b[0mposterior\u001b[0m\u001b[1;33m(\u001b[0m\u001b[0mclass3\u001b[0m\u001b[1;33m,\u001b[0m\u001b[0mX1_train\u001b[0m\u001b[1;33m,\u001b[0m\u001b[0mX2_train\u001b[0m\u001b[1;33m,\u001b[0m\u001b[0mX3_train\u001b[0m\u001b[1;33m)\u001b[0m\u001b[1;33m\u001b[0m\u001b[1;33m\u001b[0m\u001b[0m\n\u001b[0m\u001b[0;32m      2\u001b[0m \u001b[0mP1\u001b[0m\u001b[1;33m\u001b[0m\u001b[1;33m\u001b[0m\u001b[0m\n",
      "\u001b[1;32m<ipython-input-109-104a56bdaa06>\u001b[0m in \u001b[0;36mposterior\u001b[1;34m(test_case_p, train_c1, train_c2, train_c3)\u001b[0m\n\u001b[0;32m      8\u001b[0m \u001b[1;32mdef\u001b[0m \u001b[0mposterior\u001b[0m\u001b[1;33m(\u001b[0m\u001b[0mtest_case_p\u001b[0m\u001b[1;33m,\u001b[0m\u001b[0mtrain_c1\u001b[0m\u001b[1;33m,\u001b[0m\u001b[0mtrain_c2\u001b[0m\u001b[1;33m,\u001b[0m\u001b[0mtrain_c3\u001b[0m\u001b[1;33m)\u001b[0m\u001b[1;33m:\u001b[0m\u001b[1;33m\u001b[0m\u001b[1;33m\u001b[0m\u001b[0m\n\u001b[0;32m      9\u001b[0m \u001b[1;33m\u001b[0m\u001b[0m\n\u001b[1;32m---> 10\u001b[1;33m     \u001b[0mlike1\u001b[0m\u001b[1;33m=\u001b[0m\u001b[0mlikelihood\u001b[0m\u001b[1;33m(\u001b[0m\u001b[0mtest_case_p\u001b[0m\u001b[1;33m,\u001b[0m\u001b[0mtrain_c1\u001b[0m\u001b[1;33m)\u001b[0m\u001b[1;33m\u001b[0m\u001b[1;33m\u001b[0m\u001b[0m\n\u001b[0m\u001b[0;32m     11\u001b[0m     \u001b[0mlike2\u001b[0m\u001b[1;33m=\u001b[0m\u001b[0mlikelihood\u001b[0m\u001b[1;33m(\u001b[0m\u001b[0mtest_case_p\u001b[0m\u001b[1;33m,\u001b[0m\u001b[0mtrain_c2\u001b[0m\u001b[1;33m)\u001b[0m\u001b[1;33m\u001b[0m\u001b[1;33m\u001b[0m\u001b[0m\n\u001b[0;32m     12\u001b[0m     \u001b[0mlike3\u001b[0m\u001b[1;33m=\u001b[0m\u001b[0mlikelihood\u001b[0m\u001b[1;33m(\u001b[0m\u001b[0mtest_case_p\u001b[0m\u001b[1;33m,\u001b[0m\u001b[0mtrain_c3\u001b[0m\u001b[1;33m)\u001b[0m\u001b[1;33m\u001b[0m\u001b[1;33m\u001b[0m\u001b[0m\n",
      "\u001b[1;32m<ipython-input-95-71ec1c2d2526>\u001b[0m in \u001b[0;36mlikelihood\u001b[1;34m(test_case, train_c)\u001b[0m\n\u001b[0;32m     10\u001b[0m     \u001b[1;31m#P_like=f1*((f2).dot(f3))\u001b[0m\u001b[1;33m\u001b[0m\u001b[1;33m\u001b[0m\u001b[1;33m\u001b[0m\u001b[0m\n\u001b[0;32m     11\u001b[0m     \u001b[1;31m#using corrected equation\u001b[0m\u001b[1;33m\u001b[0m\u001b[1;33m\u001b[0m\u001b[1;33m\u001b[0m\u001b[0m\n\u001b[1;32m---> 12\u001b[1;33m     \u001b[0mP_like\u001b[0m\u001b[1;33m=\u001b[0m\u001b[0mnp\u001b[0m\u001b[1;33m.\u001b[0m\u001b[0mexp\u001b[0m\u001b[1;33m(\u001b[0m\u001b[1;33m-\u001b[0m\u001b[1;36m.5\u001b[0m\u001b[1;33m*\u001b[0m\u001b[1;33m(\u001b[0m\u001b[0mnp\u001b[0m\u001b[1;33m.\u001b[0m\u001b[0mtranspose\u001b[0m\u001b[1;33m(\u001b[0m\u001b[0mtest_case\u001b[0m \u001b[1;33m-\u001b[0m \u001b[0mmu1\u001b[0m\u001b[1;33m)\u001b[0m\u001b[1;33m.\u001b[0m\u001b[0mdot\u001b[0m\u001b[1;33m(\u001b[0m\u001b[0mcov_inv1\u001b[0m\u001b[1;33m)\u001b[0m\u001b[1;33m.\u001b[0m\u001b[0mdot\u001b[0m\u001b[1;33m(\u001b[0m\u001b[0mtest_case\u001b[0m\u001b[1;33m-\u001b[0m\u001b[0mmu1\u001b[0m\u001b[1;33m)\u001b[0m\u001b[1;33m)\u001b[0m\u001b[1;33m)\u001b[0m\u001b[1;33m/\u001b[0m\u001b[1;33m(\u001b[0m\u001b[1;36m2\u001b[0m\u001b[1;33m*\u001b[0m\u001b[1;36m3.14\u001b[0m\u001b[1;33m*\u001b[0m\u001b[1;33m(\u001b[0m\u001b[1;33m(\u001b[0m\u001b[0mcov_det1\u001b[0m\u001b[1;33m)\u001b[0m\u001b[1;33m**\u001b[0m\u001b[1;33m(\u001b[0m\u001b[1;36m1\u001b[0m\u001b[1;33m/\u001b[0m\u001b[1;36m2\u001b[0m\u001b[1;33m)\u001b[0m\u001b[1;33m)\u001b[0m\u001b[1;33m)\u001b[0m\u001b[1;33m\u001b[0m\u001b[1;33m\u001b[0m\u001b[0m\n\u001b[0m\u001b[0;32m     13\u001b[0m \u001b[1;33m\u001b[0m\u001b[0m\n\u001b[0;32m     14\u001b[0m     \u001b[1;32mreturn\u001b[0m \u001b[0mP_like\u001b[0m\u001b[1;33m\u001b[0m\u001b[1;33m\u001b[0m\u001b[0m\n",
      "\u001b[1;32m~\\miniconda3\\lib\\site-packages\\pandas\\core\\frame.py\u001b[0m in \u001b[0;36mdot\u001b[1;34m(self, other)\u001b[0m\n\u001b[0;32m   1194\u001b[0m             \u001b[0mrvals\u001b[0m \u001b[1;33m=\u001b[0m \u001b[0mnp\u001b[0m\u001b[1;33m.\u001b[0m\u001b[0masarray\u001b[0m\u001b[1;33m(\u001b[0m\u001b[0mother\u001b[0m\u001b[1;33m)\u001b[0m\u001b[1;33m\u001b[0m\u001b[1;33m\u001b[0m\u001b[0m\n\u001b[0;32m   1195\u001b[0m             \u001b[1;32mif\u001b[0m \u001b[0mlvals\u001b[0m\u001b[1;33m.\u001b[0m\u001b[0mshape\u001b[0m\u001b[1;33m[\u001b[0m\u001b[1;36m1\u001b[0m\u001b[1;33m]\u001b[0m \u001b[1;33m!=\u001b[0m \u001b[0mrvals\u001b[0m\u001b[1;33m.\u001b[0m\u001b[0mshape\u001b[0m\u001b[1;33m[\u001b[0m\u001b[1;36m0\u001b[0m\u001b[1;33m]\u001b[0m\u001b[1;33m:\u001b[0m\u001b[1;33m\u001b[0m\u001b[1;33m\u001b[0m\u001b[0m\n\u001b[1;32m-> 1196\u001b[1;33m                 raise ValueError(\n\u001b[0m\u001b[0;32m   1197\u001b[0m                     \u001b[1;34mf\"Dot product shape mismatch, {lvals.shape} vs {rvals.shape}\"\u001b[0m\u001b[1;33m\u001b[0m\u001b[1;33m\u001b[0m\u001b[0m\n\u001b[0;32m   1198\u001b[0m                 )\n",
      "\u001b[1;31mValueError\u001b[0m: Dot product shape mismatch, (2, 50) vs (2, 2)"
     ]
    }
   ],
   "source": [
    "P1=posterior(class3,X1_train,X2_train,X3_train)\n",
    "P1"
   ]
  },
  {
   "cell_type": "code",
   "execution_count": 100,
   "metadata": {},
   "outputs": [],
   "source": [
    "#Getting the values for the test case\n",
    "def test(test_f,train_f1,train_f2,train_f3):\n",
    "    y_pred1=[]\n",
    "    for i in range(test_f.shape[0]):         \n",
    "        t_p= test_f.iloc[i,:]\n",
    "        out_pred= posterior(t_p,train_f1,train_f2,train_f3)\n",
    "        y_pred1.append(out_pred)\n",
    "    return y_pred1\n"
   ]
  },
  {
   "cell_type": "code",
   "execution_count": 101,
   "metadata": {},
   "outputs": [
    {
     "data": {
      "text/plain": [
       "[1,\n",
       " 2,\n",
       " 3,\n",
       " 1,\n",
       " 2,\n",
       " 2,\n",
       " 2,\n",
       " 2,\n",
       " 3,\n",
       " 2,\n",
       " 2,\n",
       " 1,\n",
       " 3,\n",
       " 1,\n",
       " 3,\n",
       " 3,\n",
       " 1,\n",
       " 2,\n",
       " 1,\n",
       " 1,\n",
       " 2,\n",
       " 2,\n",
       " 3,\n",
       " 1,\n",
       " 3,\n",
       " 2,\n",
       " 3,\n",
       " 1,\n",
       " 2,\n",
       " 3,\n",
       " 1,\n",
       " 3,\n",
       " 2,\n",
       " 3,\n",
       " 1,\n",
       " 1,\n",
       " 3,\n",
       " 3,\n",
       " 2,\n",
       " 2,\n",
       " 3,\n",
       " 3,\n",
       " 3,\n",
       " 1,\n",
       " 1]"
      ]
     },
     "execution_count": 101,
     "metadata": {},
     "output_type": "execute_result"
    }
   ],
   "source": [
    "Y_pred=test(X_test,X1_train,X2_train,X3_train)\n",
    "Y_pred"
   ]
  },
  {
   "cell_type": "code",
   "execution_count": 112,
   "metadata": {},
   "outputs": [
    {
     "data": {
      "text/plain": [
       "[3,\n",
       " 2,\n",
       " 3,\n",
       " 2,\n",
       " 3,\n",
       " 3,\n",
       " 2,\n",
       " 3,\n",
       " 3,\n",
       " 3,\n",
       " 3,\n",
       " 3,\n",
       " 3,\n",
       " 2,\n",
       " 2,\n",
       " 3,\n",
       " 3,\n",
       " 3,\n",
       " 3,\n",
       " 2,\n",
       " 3,\n",
       " 2,\n",
       " 3,\n",
       " 2,\n",
       " 3,\n",
       " 3,\n",
       " 2,\n",
       " 2,\n",
       " 3,\n",
       " 3,\n",
       " 3,\n",
       " 3,\n",
       " 3,\n",
       " 2,\n",
       " 2,\n",
       " 3,\n",
       " 3,\n",
       " 3,\n",
       " 2,\n",
       " 3,\n",
       " 3,\n",
       " 3,\n",
       " 2,\n",
       " 3,\n",
       " 3,\n",
       " 3,\n",
       " 3,\n",
       " 3,\n",
       " 3,\n",
       " 2]"
      ]
     },
     "execution_count": 112,
     "metadata": {},
     "output_type": "execute_result"
    }
   ],
   "source": [
    "Y_pred101=test(class3,X1_train,X2_train,X3_train)\n",
    "Y_pred101"
   ]
  },
  {
   "cell_type": "code",
   "execution_count": 102,
   "metadata": {},
   "outputs": [
    {
     "data": {
      "text/plain": [
       "array([[14,  1,  0],\n",
       "       [ 0, 11,  4],\n",
       "       [ 0,  3, 12]], dtype=int64)"
      ]
     },
     "execution_count": 102,
     "metadata": {},
     "output_type": "execute_result"
    }
   ],
   "source": [
    "#Our prediction using Baseyian\n",
    "r=confusion_matrix(Y_test,Y_pred)\n",
    "r\n"
   ]
  },
  {
   "cell_type": "code",
   "execution_count": 103,
   "metadata": {},
   "outputs": [
    {
     "data": {
      "text/plain": [
       "0.8222222222222222"
      ]
     },
     "execution_count": 103,
     "metadata": {},
     "output_type": "execute_result"
    }
   ],
   "source": [
    "test_acc=(r[0,0]+r[1,1]+r[2,2])/len(Y_test)\n",
    "test_acc"
   ]
  },
  {
   "cell_type": "code",
   "execution_count": 104,
   "metadata": {},
   "outputs": [
    {
     "data": {
      "text/plain": [
       "0.8222222222222222"
      ]
     },
     "execution_count": 104,
     "metadata": {},
     "output_type": "execute_result"
    }
   ],
   "source": [
    "accuracy_score(Y_test,Y_pred)"
   ]
  },
  {
   "cell_type": "code",
   "execution_count": null,
   "metadata": {},
   "outputs": [],
   "source": []
  },
  {
   "cell_type": "code",
   "execution_count": null,
   "metadata": {},
   "outputs": [],
   "source": []
  }
 ],
 "metadata": {
  "kernelspec": {
   "display_name": "Python 3",
   "language": "python",
   "name": "python3"
  },
  "language_info": {
   "codemirror_mode": {
    "name": "ipython",
    "version": 3
   },
   "file_extension": ".py",
   "mimetype": "text/x-python",
   "name": "python",
   "nbconvert_exporter": "python",
   "pygments_lexer": "ipython3",
   "version": "3.8.3"
  }
 },
 "nbformat": 4,
 "nbformat_minor": 4
}
